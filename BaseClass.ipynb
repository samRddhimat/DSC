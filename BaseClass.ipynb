{
 "cells": [
  {
   "cell_type": "code",
   "execution_count": 6,
   "metadata": {},
   "outputs": [],
   "source": [
    "def timize(x):\n",
    "  '''converts the given number to HH:MM format'''\n",
    "  if not x.isnumeric() or len(x)>4:\n",
    "    return x \n",
    "  if(len(str(x)) > 3):\n",
    "      return str(x)[:2] + \":\" + str(x)[2:]\n",
    "  else: #if(len(str(x)) == 4):\n",
    "     return \"0\"+ str(x)[:1] + \":\" + str(x)[1:]\n",
    "\n",
    "def checkNoneorNull(xobj):\n",
    "    '''cChecks whether the object is None/Null.  If not returns true, false otherwise'''\n",
    "    if(xobj is not None):\n",
    "        return True\n",
    "    \n",
    "    return False\n",
    "\n"
   ]
  },
  {
   "cell_type": "code",
   "execution_count": 8,
   "metadata": {},
   "outputs": [
    {
     "data": {
      "text/plain": [
       "'11:14'"
      ]
     },
     "execution_count": 8,
     "metadata": {},
     "output_type": "execute_result"
    }
   ],
   "source": [
    "timize('1114')"
   ]
  }
 ],
 "metadata": {
  "kernelspec": {
   "display_name": "Python 3",
   "language": "python",
   "name": "python3"
  },
  "language_info": {
   "codemirror_mode": {
    "name": "ipython",
    "version": 3
   },
   "file_extension": ".py",
   "mimetype": "text/x-python",
   "name": "python",
   "nbconvert_exporter": "python",
   "pygments_lexer": "ipython3",
   "version": "3.6.6"
  }
 },
 "nbformat": 4,
 "nbformat_minor": 2
}
