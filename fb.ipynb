{
 "cells": [
  {
   "cell_type": "code",
   "execution_count": 12,
   "metadata": {},
   "outputs": [],
   "source": [
    "# Create Agewise (< 18, > 60, > 90) dataframe\n",
    "\n",
    "def Shorten_Gender(G):\n",
    "    if(G == 'male'):\n",
    "        return 'M'\n",
    "    elif(G == \"female\"):\n",
    "        return 'F'\n",
    "   # else:\n",
    "   #     return 'U'\n",
    "\n",
    "def CheckEnvironment(strName):\n",
    "    hostsystem = socket.gethostname()\n",
    "    if strName in hostsystem:\n",
    "        return True\n",
    "    return False\n",
    "\n",
    "import pandas as pd\n",
    "# import numpy as ny\n",
    "import matplotlib.pyplot as plt\n",
    "import socket\n",
    "\n",
    "file_path = \"F:/UpX/Projects/Datasets/\"\n",
    "\n",
    "dict_converters = {'gender': Shorten_Gender}\n",
    "d_columns = {'friend_count': 'FC','friendships_initiated':'FI','likes_received':'LikesR','mobile_likes':'MobL', 'mobile_likes_received': 'MobLR', 'www_likes':'WL', 'www_likes_received':'WLR'}\n",
    "\n",
    "if(CheckEnvironment('Seeni')):\n",
    "    file_name = file_path + 'pseudo_facebook.tsv'\n",
    "else:\n",
    "    file_name = 'pseudo_facebook.tsv'\n",
    "\n",
    "# print(file_name)\n",
    "\n",
    "fb_root = pd.read_table(file_name, converters=dict_converters,)\n",
    "\n",
    "fb_root = fb_root.rename(columns=d_columns)\n",
    "# fb_root['tenure'] = fb_root['tenure'].fillna(0)\n",
    "\n",
    "# fb_root.age.mean()\n",
    "# fb_root['tenure'].astype(str)\n",
    "\n"
   ]
  },
  {
   "cell_type": "code",
   "execution_count": 7,
   "metadata": {},
   "outputs": [
    {
     "name": "stdout",
     "output_type": "stream",
     "text": [
      "Likes 22680, ZeroLikes 15458\n"
     ]
    }
   ],
   "source": [
    "fb_Likes = fb_root[(fb_root['LikesR'] != 0) & (fb_root['MobL'] !=0) & (fb_root['MobLR'] !=0) & (fb_root['WL'] !=0) & (fb_root['WLR'] !=0)]\n",
    "fb_ZeroLikes = fb_root[(fb_root['LikesR'] == 0) & (fb_root['MobL'] ==0) & (fb_root['MobLR'] ==0) & (fb_root['WL'] ==0) & (fb_root['WLR'] ==0)]\n",
    "print(\"Likes {}, ZeroLikes {}\".format(fb_Likes.shape[0], fb_ZeroLikes.shape[0]))"
   ]
  },
  {
   "cell_type": "code",
   "execution_count": 8,
   "metadata": {},
   "outputs": [
    {
     "name": "stdout",
     "output_type": "stream",
     "text": [
      "Male 9516 - Female 13090 UD 74\n"
     ]
    }
   ],
   "source": [
    "# Create gender dataframe\n",
    "fb_Male = fb_Likes[fb_Likes['gender'] == 'M']\n",
    "fb_Female = fb_Likes[fb_Likes['gender'] == 'F']\n",
    "fb_UD = fb_Likes[(fb_Likes['gender'] != 'M') & (fb_Likes['gender'] != 'F')]\n",
    "\n",
    "print('Male {} - Female {} UD {}'.format(fb_Male.shape[0], fb_Female.shape[0], fb_UD.shape[0]))\n",
    "\n",
    "# print(fb_Male.groupby(fb_Male.age))\n",
    "fb_Male_Agewise_grp =fb_Male.groupby(fb_Male.age)\n",
    "\n",
    "# fb_Male_Agewise_grp.head()\n",
    "# plt.scatter(fb_Male.age, fb_Male.likes, color='purple')\n",
    "# plt.xlabel('Age')\n",
    "# plt.ylabel('Likes')\n",
    "# plt.show()\n",
    "# fb_Male.likes.max()\n",
    "\n",
    "\n",
    "# plt.plot(fb_Male.tenure, fb_Male.LikesR)\n",
    "# plt.xlabel('Tenure')\n",
    "# plt.ylabel('Likes Received')\n",
    "# plt.show()\n",
    "# fb_Male.columns\n"
   ]
  },
  {
   "cell_type": "code",
   "execution_count": 27,
   "metadata": {},
   "outputs": [
    {
     "data": {
      "image/png": "[encoded data removed]",
      "text/plain": [
       "<Figure size 432x288 with 1 Axes>"
      ]
     },
     "metadata": {},
     "output_type": "display_data"
    }
   ],
   "source": [
    "# Create Agewise (< 18, > 60, > 90) dataframe\n",
    "fb_Male_U18 = fb_Male[fb_Male['age']<18]\n",
    "fb_Female_U18 = fb_Female[fb_Female['age']<18]\n",
    "fb_UD_U18 = fb_UD[fb_UD['age']<18]\n",
    "\n",
    "# print('Users under 18\\nMale {}\\nFemale {}\\nUD {}\\n'.format(fb_Male_U18.shape[0], fb_Female_U18.shape[0], fb_UD_U18.shape[0]))\n",
    "\n",
    "# fb_M_Under60_90 = fb_Male[(fb_Male['age'] > 60) & (fb_Male['age'] < 90)]\n",
    "# fb_F_Under60_90 = fb_Female[(fb_Female['age'] > 60) & (fb_Female['age'] < 90)]\n",
    "# fb_UD_Under60_90 = fb_UD[(fb_UD['age'] > 60) & (fb_UD['age'] < 90)]\n",
    "# print(\"Users in the range of 60 to 90\\nMale {}\\nFemale {}\\nUD {}\\n\".format(fb_M_Under60_90.shape[0], fb_F_Under60_90.shape[0], fb_UD_Under60_90.shape[0]))\n",
    "\n",
    "# fb_Agewise_Outliers = fb_root[fb_root['age'] > 90].groupby(['gender'])[0,]\n",
    "# fb_root[fb_root['age'] > 90].shape#.groupby(['gender'])['userid']\n",
    "\n",
    "\n",
    "fb_M18to30 = fb_Male[(fb_Male['age'] > 17) & (fb_Male['age'] < 31)]\n",
    "fb_M31to45 = fb_Male[(fb_Male['age'] > 31) & (fb_Male['age'] < 46)]\n",
    "fb_M46to60 = fb_Male[(fb_Male['age'] > 45) & (fb_Male['age'] < 61)]\n",
    "\n",
    "fb_F18to30 = fb_Female[(fb_Female['age'] > 17) & (fb_Female['age'] < 31)]\n",
    "fb_F31to45 = fb_Female[(fb_Female['age'] > 31) & (fb_Female['age'] < 46)]\n",
    "fb_F46to60 = fb_Female[(fb_Female['age'] > 45) & (fb_Female['age'] < 61)]\n",
    "\n",
    "\n",
    "lblGender = ['Male', 'Female']\n",
    "gendercolors = ['gold','orange']\n",
    "exp = [0,0] \n",
    "plt.pie([fb_M18to30.shape[0], fb_F18to30.shape[0]], autopct='%1.1f%%',labels=lblGender,\n",
    "        explode=exp,colors=gendercolors)\n",
    "plt.axis('equal')\n",
    "plt.show()"
   ]
  },
  {
   "cell_type": "code",
   "execution_count": null,
   "metadata": {},
   "outputs": [],
   "source": [
    "# fb_t = fb_root[(fb_root['gender'] != 'male') & (fb_root['gender'] != 'female') ]\n",
    "print(\"fb_root.shape {}\".format(fb_root.shape),fb_t.shape)\n",
    "# print(type(fb_Under18_M.shape))\n",
    "# print('Users under 18 - {}  out of which Male {} - Female {} summing to {}'.format(fb_Under18.shape,fb_Under18_M.shape[0], fb_Under18_F.shape[0], fb_Under18_M.shape[0] + fb_Under18_F.shape[0]))\n",
    "fb_Under18 = fb_Under18[(fb_Under18['LikesR'] != 0) & (fb_Under18['MobL'] !=0) & (fb_Under18['MobLR'] !=0) & (fb_Under18['WL'] !=0) & (fb_Under18['WLR'] !=0)]\n",
    "\n",
    "# fb_Under18_U\n",
    "# fb_t"
   ]
  }
 ],
 "metadata": {
  "kernelspec": {
   "display_name": "Python 3",
   "language": "python",
   "name": "python3"
  },
  "language_info": {
   "codemirror_mode": {
    "name": "ipython",
    "version": 3
   },
   "file_extension": ".py",
   "mimetype": "text/x-python",
   "name": "python",
   "nbconvert_exporter": "python",
   "pygments_lexer": "ipython3",
   "version": "3.6.6"
  }
 },
 "nbformat": 4,
 "nbformat_minor": 2
}
